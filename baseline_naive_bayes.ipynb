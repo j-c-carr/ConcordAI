{
  "nbformat": 4,
  "nbformat_minor": 0,
  "metadata": {
    "colab": {
      "name": "concordAI.ipynb",
      "version": "0.3.2",
      "provenance": [],
      "collapsed_sections": []
    },
    "kernelspec": {
      "name": "python3",
      "display_name": "Python 3"
    }
  },
  "cells": [
    {
      "cell_type": "code",
      "metadata": {
        "id": "sg8-9Ow9D3m4",
        "colab_type": "code",
        "colab": {
          "base_uri": "https://localhost:8080/",
          "height": 34
        },
        "outputId": "0244c5c4-6c87-4c63-8555-e62fe45f0d83"
      },
      "source": [
        "from google.colab import drive\n",
        "drive.mount('/content/drive')"
      ],
      "execution_count": 2,
      "outputs": [
        {
          "output_type": "stream",
          "text": [
            "Drive already mounted at /content/drive; to attempt to forcibly remount, call drive.mount(\"/content/drive\", force_remount=True).\n"
          ],
          "name": "stdout"
        }
      ]
    },
    {
      "cell_type": "code",
      "metadata": {
        "id": "KYmQHF0tEcu0",
        "colab_type": "code",
        "colab": {}
      },
      "source": [
        "import os\n",
        "import pandas as pd\n",
        "import numpy as np"
      ],
      "execution_count": 0,
      "outputs": []
    },
    {
      "cell_type": "code",
      "metadata": {
        "id": "R0Sioq2HFPWU",
        "colab_type": "code",
        "colab": {
          "base_uri": "https://localhost:8080/",
          "height": 68
        },
        "outputId": "e8ae73c5-b5be-43e1-a1e1-6b982e5c0346"
      },
      "source": [
        "!pip install -U textblob"
      ],
      "execution_count": 5,
      "outputs": [
        {
          "output_type": "stream",
          "text": [
            "Requirement already up-to-date: textblob in /usr/local/lib/python3.6/dist-packages (0.15.3)\n",
            "Requirement already satisfied, skipping upgrade: nltk>=3.1 in /usr/local/lib/python3.6/dist-packages (from textblob) (3.2.5)\n",
            "Requirement already satisfied, skipping upgrade: six in /usr/local/lib/python3.6/dist-packages (from nltk>=3.1->textblob) (1.12.0)\n"
          ],
          "name": "stdout"
        }
      ]
    },
    {
      "cell_type": "code",
      "metadata": {
        "id": "NvhLvkkjFxpr",
        "colab_type": "code",
        "colab": {}
      },
      "source": [
        "from textblob import TextBlob\n",
        "from textblob import classifiers"
      ],
      "execution_count": 0,
      "outputs": []
    },
    {
      "cell_type": "code",
      "metadata": {
        "id": "j0d2NVsEOLxt",
        "colab_type": "code",
        "colab": {
          "base_uri": "https://localhost:8080/",
          "height": 68
        },
        "outputId": "7d256f1a-07ce-4551-dce8-5b1c0ecbed24"
      },
      "source": [
        "import nltk\n",
        "nltk.download('punkt')"
      ],
      "execution_count": 5,
      "outputs": [
        {
          "output_type": "stream",
          "text": [
            "[nltk_data] Downloading package punkt to /root/nltk_data...\n",
            "[nltk_data]   Package punkt is already up-to-date!\n"
          ],
          "name": "stdout"
        },
        {
          "output_type": "execute_result",
          "data": {
            "text/plain": [
              "True"
            ]
          },
          "metadata": {
            "tags": []
          },
          "execution_count": 5
        }
      ]
    },
    {
      "cell_type": "code",
      "metadata": {
        "id": "Sf9RfZEgEHKi",
        "colab_type": "code",
        "colab": {}
      },
      "source": [
        "data = pd.read_csv('/content/drive/My Drive/Colab Notebooks/training.1600000.processed.noemoticon.csv', encoding = \"ISO-8859-1\")"
      ],
      "execution_count": 0,
      "outputs": []
    },
    {
      "cell_type": "code",
      "metadata": {
        "id": "uMM6SsKXLz8T",
        "colab_type": "code",
        "colab": {
          "base_uri": "https://localhost:8080/",
          "height": 1071
        },
        "outputId": "29f10b8b-1c2e-4159-8c2e-1d1ea99c8f46"
      },
      "source": [
        "data.iloc[:,0]"
      ],
      "execution_count": 7,
      "outputs": [
        {
          "output_type": "execute_result",
          "data": {
            "text/plain": [
              "0          0\n",
              "1          0\n",
              "2          0\n",
              "3          0\n",
              "4          0\n",
              "5          0\n",
              "6          0\n",
              "7          0\n",
              "8          0\n",
              "9          0\n",
              "10         0\n",
              "11         0\n",
              "12         0\n",
              "13         0\n",
              "14         0\n",
              "15         0\n",
              "16         0\n",
              "17         0\n",
              "18         0\n",
              "19         0\n",
              "20         0\n",
              "21         0\n",
              "22         0\n",
              "23         0\n",
              "24         0\n",
              "25         0\n",
              "26         0\n",
              "27         0\n",
              "28         0\n",
              "29         0\n",
              "          ..\n",
              "1599969    4\n",
              "1599970    4\n",
              "1599971    4\n",
              "1599972    4\n",
              "1599973    4\n",
              "1599974    4\n",
              "1599975    4\n",
              "1599976    4\n",
              "1599977    4\n",
              "1599978    4\n",
              "1599979    4\n",
              "1599980    4\n",
              "1599981    4\n",
              "1599982    4\n",
              "1599983    4\n",
              "1599984    4\n",
              "1599985    4\n",
              "1599986    4\n",
              "1599987    4\n",
              "1599988    4\n",
              "1599989    4\n",
              "1599990    4\n",
              "1599991    4\n",
              "1599992    4\n",
              "1599993    4\n",
              "1599994    4\n",
              "1599995    4\n",
              "1599996    4\n",
              "1599997    4\n",
              "1599998    4\n",
              "Name: 0, Length: 1599999, dtype: int64"
            ]
          },
          "metadata": {
            "tags": []
          },
          "execution_count": 7
        }
      ]
    },
    {
      "cell_type": "code",
      "metadata": {
        "id": "y6mQKbvuFet5",
        "colab_type": "code",
        "colab": {}
      },
      "source": [
        "convert_posneg = []\n",
        "for index in data.index:\n",
        "  if data.iloc[:,0][index] == 0:\n",
        "    convert_posneg.append(\"neg\")\n",
        "  else:\n",
        "    convert_posneg.append(\"pos\")\n"
      ],
      "execution_count": 0,
      "outputs": []
    },
    {
      "cell_type": "code",
      "metadata": {
        "id": "wrZTXhIpJ4rc",
        "colab_type": "code",
        "colab": {}
      },
      "source": [
        "data['pos_neg'] = convert_posneg\n",
        "data['sentiment_pair'] = list(zip(data.iloc[:,5], data['pos_neg']))"
      ],
      "execution_count": 0,
      "outputs": []
    },
    {
      "cell_type": "code",
      "metadata": {
        "id": "g0MkkZ7cRbrO",
        "colab_type": "code",
        "colab": {
          "base_uri": "https://localhost:8080/",
          "height": 4318
        },
        "outputId": "1a2da450-dbaa-4ed7-c8aa-bbabde411408"
      },
      "source": [
        "data.sample(frac=1, random_state=1).head"
      ],
      "execution_count": 20,
      "outputs": [
        {
          "output_type": "execute_result",
          "data": {
            "text/plain": [
              "<bound method NDFrame.head of          0  1467810369  Mon Apr 06 22:19:45 PDT 2009  NO_QUERY  \\\n",
              "120640   0  1833282794  Sun May 17 22:48:54 PDT 2009  NO_QUERY   \n",
              "189703   0  1969194686  Fri May 29 23:17:33 PDT 2009  NO_QUERY   \n",
              "1595284  4  2192335895  Tue Jun 16 06:52:57 PDT 2009  NO_QUERY   \n",
              "1021096  4  1882504707  Fri May 22 06:59:42 PDT 2009  NO_QUERY   \n",
              "98291    0  1793245629  Thu May 14 01:56:46 PDT 2009  NO_QUERY   \n",
              "755196   0  2288245922  Mon Jun 22 18:54:41 PDT 2009  NO_QUERY   \n",
              "925330   4  1755282267  Sun May 10 08:44:14 PDT 2009  NO_QUERY   \n",
              "1517423  4  2175839744  Mon Jun 15 02:08:57 PDT 2009  NO_QUERY   \n",
              "1462903  4  2064077955  Sun Jun 07 05:08:49 PDT 2009  NO_QUERY   \n",
              "716696   0  2259774732  Sat Jun 20 18:08:29 PDT 2009  NO_QUERY   \n",
              "325032   0  2006889499  Tue Jun 02 11:50:07 PDT 2009  NO_QUERY   \n",
              "565045   0  2206389441  Wed Jun 17 06:28:06 PDT 2009  NO_QUERY   \n",
              "41098    0  1573964224  Tue Apr 21 03:40:45 PDT 2009  NO_QUERY   \n",
              "1180243  4  1981884848  Sun May 31 10:05:21 PDT 2009  NO_QUERY   \n",
              "1267727  4  1999911311  Mon Jun 01 21:02:56 PDT 2009  NO_QUERY   \n",
              "1467102  4  2064568110  Sun Jun 07 06:37:10 PDT 2009  NO_QUERY   \n",
              "1241432  4  1994014495  Mon Jun 01 11:16:44 PDT 2009  NO_QUERY   \n",
              "1193506  4  1984278970  Sun May 31 14:47:37 PDT 2009  NO_QUERY   \n",
              "1235782  4  1992668758  Mon Jun 01 09:07:49 PDT 2009  NO_QUERY   \n",
              "688155   0  2251456489  Sat Jun 20 03:33:57 PDT 2009  NO_QUERY   \n",
              "1015375  4  1881554083  Fri May 22 04:58:36 PDT 2009  NO_QUERY   \n",
              "607845   0  2223110886  Thu Jun 18 07:51:54 PDT 2009  NO_QUERY   \n",
              "1443700  4  2062160106  Sat Jun 06 22:29:11 PDT 2009  NO_QUERY   \n",
              "1402791  4  2054766714  Sat Jun 06 08:02:36 PDT 2009  NO_QUERY   \n",
              "1108681  4  1971767862  Sat May 30 07:51:16 PDT 2009  NO_QUERY   \n",
              "117663   0  1827680235  Sun May 17 11:13:17 PDT 2009  NO_QUERY   \n",
              "120756   0  1833335152  Sun May 17 22:58:25 PDT 2009  NO_QUERY   \n",
              "1439681  4  2061541544  Sat Jun 06 21:05:07 PDT 2009  NO_QUERY   \n",
              "51342    0  1678905446  Sat May 02 08:02:10 PDT 2009  NO_QUERY   \n",
              "320099   0  2003219828  Tue Jun 02 06:07:09 PDT 2009  NO_QUERY   \n",
              "...     ..         ...                           ...       ...   \n",
              "1342679  4  2033318939  Thu Jun 04 12:32:07 PDT 2009  NO_QUERY   \n",
              "246322   0  1982216639  Sun May 31 10:45:47 PDT 2009  NO_QUERY   \n",
              "1005966  4  1880562993  Fri May 22 01:41:17 PDT 2009  NO_QUERY   \n",
              "188317   0  1968857392  Fri May 29 22:23:21 PDT 2009  NO_QUERY   \n",
              "365212   0  2048466544  Fri Jun 05 15:14:44 PDT 2009  NO_QUERY   \n",
              "806378   4  1468804347  Tue Apr 07 03:49:26 PDT 2009  NO_QUERY   \n",
              "401660   0  2057735252  Sat Jun 06 13:33:48 PDT 2009  NO_QUERY   \n",
              "1506187  4  2072515652  Sun Jun 07 21:10:37 PDT 2009  NO_QUERY   \n",
              "575956   0  2211328176  Wed Jun 17 12:43:09 PDT 2009  NO_QUERY   \n",
              "691090   0  2252162308  Sat Jun 20 05:36:52 PDT 2009  NO_QUERY   \n",
              "1225061  4  1990630991  Mon Jun 01 05:22:08 PDT 2009  NO_QUERY   \n",
              "1070334  4  1966113212  Fri May 29 17:08:56 PDT 2009  NO_QUERY   \n",
              "513300   0  2190348573  Tue Jun 16 02:28:25 PDT 2009  NO_QUERY   \n",
              "1041586  4  1957099350  Thu May 28 23:30:56 PDT 2009  NO_QUERY   \n",
              "1215878  4  1989584576  Mon Jun 01 02:04:30 PDT 2009  NO_QUERY   \n",
              "1341948  4  2032186699  Thu Jun 04 10:53:52 PDT 2009  NO_QUERY   \n",
              "1485549  4  2067900210  Sun Jun 07 13:09:11 PDT 2009  NO_QUERY   \n",
              "925255   4  1755251312  Sun May 10 08:39:22 PDT 2009  NO_QUERY   \n",
              "966604   4  1827707526  Sun May 17 11:16:43 PDT 2009  NO_QUERY   \n",
              "413825   0  2060678232  Sat Jun 06 19:21:55 PDT 2009  NO_QUERY   \n",
              "229520   0  1978497497  Sat May 30 23:32:34 PDT 2009  NO_QUERY   \n",
              "1070016  4  1966024580  Fri May 29 16:59:04 PDT 2009  NO_QUERY   \n",
              "1166159  4  1979907742  Sun May 31 04:59:07 PDT 2009  NO_QUERY   \n",
              "73349    0  1694489034  Mon May 04 02:51:35 PDT 2009  NO_QUERY   \n",
              "371403   0  2050417855  Fri Jun 05 18:37:57 PDT 2009  NO_QUERY   \n",
              "836489   4  1558479500  Sun Apr 19 08:30:10 PDT 2009  NO_QUERY   \n",
              "491263   0  2183766382  Mon Jun 15 14:57:28 PDT 2009  NO_QUERY   \n",
              "470924   0  2176522294  Mon Jun 15 04:05:48 PDT 2009  NO_QUERY   \n",
              "491755   0  2183938824  Mon Jun 15 15:11:31 PDT 2009  NO_QUERY   \n",
              "128037   0  1834836706  Mon May 18 04:21:34 PDT 2009  NO_QUERY   \n",
              "\n",
              "         _TheSpecialOne_  \\\n",
              "120640      kiranerdcore   \n",
              "189703       rock_sister   \n",
              "1595284           murz13   \n",
              "1021096            bredo   \n",
              "98291     IncredibleLAGO   \n",
              "755196     michellejangg   \n",
              "925330    biancapastrana   \n",
              "1517423      Siennatweet   \n",
              "1462903         deansmee   \n",
              "716696         SebStanly   \n",
              "325032          nwoidaho   \n",
              "565045          snsmom18   \n",
              "41098      ionacosmetics   \n",
              "1180243          deltarx   \n",
              "1267727           Dori23   \n",
              "1467102        Bushcat69   \n",
              "1241432      thegoddess8   \n",
              "1193506   reflexivemedia   \n",
              "1235782    BianaBabinsky   \n",
              "688155      happyBeSacky   \n",
              "1015375       AritheMack   \n",
              "607845      rachbarnhart   \n",
              "1443700        JuneMalik   \n",
              "1402791           keza34   \n",
              "1108681           dammet   \n",
              "117663       tetchtorres   \n",
              "120756       einahpets20   \n",
              "1439681  GlorifiedGofers   \n",
              "51342     9secondquarter   \n",
              "320099       tanya_kogan   \n",
              "...                  ...   \n",
              "1342679      longestpoem   \n",
              "246322           maritxa   \n",
              "1005966      MattAmbroso   \n",
              "188317   iLoveDemiSelena   \n",
              "365212         Mandy_poo   \n",
              "806378      ThaRebeliouZ   \n",
              "401660    hottlittledncr   \n",
              "1506187         yeoshina   \n",
              "575956       faerierebel   \n",
              "691090     QueenAnnmarie   \n",
              "1225061     Imaginations   \n",
              "1070334     CallaLilly84   \n",
              "513300           ulyanas   \n",
              "1041586        brandon_g   \n",
              "1215878    LittleFuryBug   \n",
              "1341948     donovanbrock   \n",
              "1485549     TwiObsession   \n",
              "925255       doghead2099   \n",
              "966604         MrMailman   \n",
              "413825            Raznay   \n",
              "229520          VivaLaLo   \n",
              "1070016   FreeFilmPoetry   \n",
              "1166159  lilmissquixotic   \n",
              "73349         pink_sugar   \n",
              "371403        aggtexas88   \n",
              "836489        Ariesbunny   \n",
              "491263    ross__phillips   \n",
              "470924       franmoore22   \n",
              "491755      robyngodfrey   \n",
              "128037        _catchfire   \n",
              "\n",
              "        @switchfoot http://twitpic.com/2y1zl - Awww, that's a bummer.  You shoulda got David Carr of Third Day to do it. ;D  \\\n",
              "120640   i have to write a speech on &quot;speeches&quo...                                                                    \n",
              "189703   Yeah, this is just great, sick in the middle o...                                                                    \n",
              "1595284  anyway, gotta go.. CSI: NY up next and I have ...                                                                    \n",
              "1021096  @skimhannahkeys @AliciaSkimbit i like your app...                                                                    \n",
              "98291    @Lolene ummmmm.... U disappeared... So much fo...                                                                    \n",
              "755196   i swear if i dont go to coldstone with @tuttle...                                                                    \n",
              "925330   Church, mommy's soccer game, &amp; family dinn...                                                                    \n",
              "1517423  #iremember ehh the last month? i'm only a litt...                                                                    \n",
              "1462903  thinks it's about time twitter worked for him,...                                                                    \n",
              "716696   shit i think i just tweeted @xxooandcookies tw...                                                                    \n",
              "325032   @NellaGrl I did see that in the forums. Sorry ...                                                                    \n",
              "565045               @Mom_20  my 3 yr old up at 6:30 also                                                                     \n",
              "41098    @BrandyandIce We cudn't get battery hens in th...                                                                    \n",
              "1180243  #FRF The Rocker: 6/10. Fun. Frolicking. Foolis...                                                                    \n",
              "1267727  @JonathanRKnight You are so loved! We are bles...                                                                    \n",
              "1467102   is happy to be going home to his family tonight                                                                     \n",
              "1241432  i'd say something about good, but it's not nec...                                                                    \n",
              "1193506                                          new moon                                                                     \n",
              "1235782  @melanieyost, thank you  looking forward to th...                                                                    \n",
              "688155   @XroulaX Oh dear...  You should change your pa...                                                                    \n",
              "1015375  Good morning Homies! Thank u God for getting m...                                                                    \n",
              "607845           I picked an awfully gray day to have off                                                                     \n",
              "1443700  @jfkjohan tell u how is the movie cos its on m...                                                                    \n",
              "1402791         @Dojie coz you missed lunch other day.lol                                                                     \n",
              "1108681  WOHO! I found a spot  Now i just have to find ...                                                                    \n",
              "117663   Still awake (obviously) studying pa rin. I thi...                                                                    \n",
              "120756                                     i lost my pic                                                                      \n",
              "1439681  @greekfood Trying to vote for your blog..Had t...                                                                    \n",
              "51342    Something was wrong with the new motor, not go...                                                                    \n",
              "320099   I am going to fail all of my exams and not go ...                                                                    \n",
              "...                                                    ...                                                                    \n",
              "1342679  @fastdadddy your tweet was just included in Th...                                                                    \n",
              "246322   My baby lost!!!  NADAL WHY...and it does suck ...                                                                    \n",
              "1005966  @CaitMB Thanks Caitlin  Miss you and all the o...                                                                    \n",
              "188317   @ddlovato nvm ur sister just twittered that ur...                                                                    \n",
              "365212   Can someone take my phone away?? Im making bad...                                                                    \n",
              "806378                            @toxiccupcakeCxC  @ you.                                                                    \n",
              "401660   Loving my bf. Miss him so much   &lt;3TS&lt;3T...                                                                    \n",
              "1506187  Also, I want @KChenoweth 's bubbies. They're p...                                                                    \n",
              "575956                           Seriously I want my book                                                                     \n",
              "691090                Just took out my favourite piercing                                                                     \n",
              "1225061  &quot;im just jake   and i already am insane&q...                                                                    \n",
              "1070334    @LaceySchwimmer What colour did you buy Lacey?                                                                     \n",
              "513300   got kicked out of bed this morning.... so i'm ...                                                                    \n",
              "1041586  sorry that i'm just now realizing the joys of ...                                                                    \n",
              "1215878                   Maybe I should get dressed now.                                                                     \n",
              "1341948      @fox5newsedge Yah. There's no money on it...                                                                     \n",
              "1485549  @Jessa_Hale lol!  OH MY DAMN! I totally forgot...                                                                    \n",
              "925255   Desertfae- please come back to the BND forum, ...                                                                    \n",
              "966604   @UndeniableQueen You never cease to amaze me! ...                                                                    \n",
              "413825   @StrangeNerd Ooooooh no way.... bad hotmail......                                                                    \n",
              "229520         Why head do you hurt? I'm soo good to you!                                                                     \n",
              "1070016  So i sing me into bed now, goodnight twitterfo...                                                                    \n",
              "1166159  @ezdee hahaha now with office hours, hopefully...                                                                    \n",
              "73349    I'm completely exhausted...I feel like I could...                                                                    \n",
              "371403   Has a major headache. Not a good way to end th...                                                                    \n",
              "836489   Waking up after a fun night of drinks, food an...                                                                    \n",
              "491263   @AimeeCH my payday money has already been spen...                                                                    \n",
              "470924   @definatalie New to what? You? Or being fat? Y...                                                                    \n",
              "491755                             @GL5KU73 i miss youuuu                                                                     \n",
              "128037   i'm confident that i passed science and englis...                                                                    \n",
              "\n",
              "        pos_neg                                     sentiment_pair  \n",
              "120640      neg  (i have to write a speech on &quot;speeches&qu...  \n",
              "189703      neg  (Yeah, this is just great, sick in the middle ...  \n",
              "1595284     pos  (anyway, gotta go.. CSI: NY up next and I have...  \n",
              "1021096     pos  (@skimhannahkeys @AliciaSkimbit i like your ap...  \n",
              "98291       neg  (@Lolene ummmmm.... U disappeared... So much f...  \n",
              "755196      neg  (i swear if i dont go to coldstone with @tuttl...  \n",
              "925330      pos  (Church, mommy's soccer game, &amp; family din...  \n",
              "1517423     pos  (#iremember ehh the last month? i'm only a lit...  \n",
              "1462903     pos  (thinks it's about time twitter worked for him...  \n",
              "716696      neg  (shit i think i just tweeted @xxooandcookies t...  \n",
              "325032      neg  (@NellaGrl I did see that in the forums. Sorry...  \n",
              "565045      neg       (@Mom_20  my 3 yr old up at 6:30 also , neg)  \n",
              "41098       neg  (@BrandyandIce We cudn't get battery hens in t...  \n",
              "1180243     pos  (#FRF The Rocker: 6/10. Fun. Frolicking. Fooli...  \n",
              "1267727     pos  (@JonathanRKnight You are so loved! We are ble...  \n",
              "1467102     pos  (is happy to be going home to his family tonig...  \n",
              "1241432     pos  (i'd say something about good, but it's not ne...  \n",
              "1193506     pos                                   (new moon , pos)  \n",
              "1235782     pos  (@melanieyost, thank you  looking forward to t...  \n",
              "688155      neg  (@XroulaX Oh dear...  You should change your p...  \n",
              "1015375     pos  (Good morning Homies! Thank u God for getting ...  \n",
              "607845      neg   (I picked an awfully gray day to have off , neg)  \n",
              "1443700     pos  (@jfkjohan tell u how is the movie cos its on ...  \n",
              "1402791     pos  (@Dojie coz you missed lunch other day.lol , pos)  \n",
              "1108681     pos  (WOHO! I found a spot  Now i just have to find...  \n",
              "117663      neg  (Still awake (obviously) studying pa rin. I th...  \n",
              "120756      neg                             (i lost my pic  , neg)  \n",
              "1439681     pos  (@greekfood Trying to vote for your blog..Had ...  \n",
              "51342       neg  (Something was wrong with the new motor, not g...  \n",
              "320099      neg  (I am going to fail all of my exams and not go...  \n",
              "...         ...                                                ...  \n",
              "1342679     pos  (@fastdadddy your tweet was just included in T...  \n",
              "246322      neg  (My baby lost!!!  NADAL WHY...and it does suck...  \n",
              "1005966     pos  (@CaitMB Thanks Caitlin  Miss you and all the ...  \n",
              "188317      neg  (@ddlovato nvm ur sister just twittered that u...  \n",
              "365212      neg  (Can someone take my phone away?? Im making ba...  \n",
              "806378      pos                    (@toxiccupcakeCxC  @ you., pos)  \n",
              "401660      neg  (Loving my bf. Miss him so much   &lt;3TS&lt;3...  \n",
              "1506187     pos  (Also, I want @KChenoweth 's bubbies. They're ...  \n",
              "575956      neg                   (Seriously I want my book , neg)  \n",
              "691090      neg        (Just took out my favourite piercing , neg)  \n",
              "1225061     pos  (&quot;im just jake   and i already am insane&...  \n",
              "1070334     pos  (@LaceySchwimmer What colour did you buy Lacey...  \n",
              "513300      neg  (got kicked out of bed this morning.... so i'm...  \n",
              "1041586     pos  (sorry that i'm just now realizing the joys of...  \n",
              "1215878     pos            (Maybe I should get dressed now. , pos)  \n",
              "1341948     pos  (@fox5newsedge Yah. There's no money on it... ...  \n",
              "1485549     pos  (@Jessa_Hale lol!  OH MY DAMN! I totally forgo...  \n",
              "925255      pos  (Desertfae- please come back to the BND forum,...  \n",
              "966604      pos  (@UndeniableQueen You never cease to amaze me!...  \n",
              "413825      neg  (@StrangeNerd Ooooooh no way.... bad hotmail.....  \n",
              "229520      neg  (Why head do you hurt? I'm soo good to you! , ...  \n",
              "1070016     pos  (So i sing me into bed now, goodnight twitterf...  \n",
              "1166159     pos  (@ezdee hahaha now with office hours, hopefull...  \n",
              "73349       neg  (I'm completely exhausted...I feel like I coul...  \n",
              "371403      neg  (Has a major headache. Not a good way to end t...  \n",
              "836489      pos  (Waking up after a fun night of drinks, food a...  \n",
              "491263      neg  (@AimeeCH my payday money has already been spe...  \n",
              "470924      neg  (@definatalie New to what? You? Or being fat? ...  \n",
              "491755      neg                     (@GL5KU73 i miss youuuu , neg)  \n",
              "128037      neg  (i'm confident that i passed science and engli...  \n",
              "\n",
              "[1599999 rows x 8 columns]>"
            ]
          },
          "metadata": {
            "tags": []
          },
          "execution_count": 20
        }
      ]
    },
    {
      "cell_type": "code",
      "metadata": {
        "id": "hCHDZ4aiN8Yw",
        "colab_type": "code",
        "colab": {}
      },
      "source": [
        "classifier = classifiers.NaiveBayesClassifier(data.sample(frac=1, random_state=1).iloc[:5000, 7])"
      ],
      "execution_count": 0,
      "outputs": []
    },
    {
      "cell_type": "code",
      "metadata": {
        "id": "Kjaq25b5OGrM",
        "colab_type": "code",
        "colab": {
          "base_uri": "https://localhost:8080/",
          "height": 34
        },
        "outputId": "d1c5dca9-f1e2-4a3f-fe85-03fcd84cdab5"
      },
      "source": [
        "test = data.sample(frac=1, random_state=1).iloc[5001:6000, 7]\n",
        "classifier.accuracy(test)"
      ],
      "execution_count": 23,
      "outputs": [
        {
          "output_type": "execute_result",
          "data": {
            "text/plain": [
              "0.6986986986986987"
            ]
          },
          "metadata": {
            "tags": []
          },
          "execution_count": 23
        }
      ]
    },
    {
      "cell_type": "code",
      "metadata": {
        "id": "eXnbl_TKS_Mt",
        "colab_type": "code",
        "colab": {
          "base_uri": "https://localhost:8080/",
          "height": 204
        },
        "outputId": "dda05891-d072-48ea-f412-d71f3d084ab1"
      },
      "source": [
        "\n",
        "test_phrases = [\n",
        "    (\"#inaperfectworld final exams wouldn't exist and i would be sleeping very confy right now!\", 'pos'),\n",
        "    (\"ok thats it you win.\", 'neg'),\n",
        "    (\"#Swim&amp;Run #Cologne was great!Lesson learnedon't bring water w/ gas.Cost me 5-7min.,easy \",'pos'),\n",
        "    (\"#Tetris, one of the most renowned and addictive creations in the brief history of video games, turns 25 this week  Long live Tetris!\",'pos'),\n",
        "    (\"#TFARP -cycle. Been a rather long solar cycle for everybody, I think. :p G'night Bots, Cons, and assorted others! \", 'pos'),\n",
        "    (\"#thankyouGod for all the mothers in the world who doesnt know how to cook salsa but will be willing to try for their children \",'pos'),\n",
        "    (\"#inaperfectworld i'd be sitting VIP row 1 at the game tonight!\", 'pos'),\n",
        "    (\"#iPhone - updated to 3.0 but cant activate because  iTunes store activation connection time out error \", 'neg'),\n",
        "    (\"#Up is amazing!  I'm glad I got to see it &amp; see @KristinRose84 too!\", 'pos'),\n",
        "    (\"#Music happy music monday everybody, I LOVE MUSIC \", 'pos')\n",
        "]\n",
        "for entry in test_phrases:\n",
        "  print(classifier.classify(entry))\n",
        "classifier.accuracy(test_phrases)\n"
      ],
      "execution_count": 24,
      "outputs": [
        {
          "output_type": "stream",
          "text": [
            "pos\n",
            "pos\n",
            "pos\n",
            "pos\n",
            "pos\n",
            "pos\n",
            "pos\n",
            "pos\n",
            "pos\n",
            "pos\n"
          ],
          "name": "stdout"
        },
        {
          "output_type": "execute_result",
          "data": {
            "text/plain": [
              "0.7"
            ]
          },
          "metadata": {
            "tags": []
          },
          "execution_count": 24
        }
      ]
    },
    {
      "cell_type": "code",
      "metadata": {
        "id": "3Xx16XN4Wsp2",
        "colab_type": "code",
        "colab": {
          "base_uri": "https://localhost:8080/",
          "height": 51
        },
        "outputId": "93239672-f08b-4cc3-d1d9-c10866fdd59b"
      },
      "source": [
        "classifier.classify(\"This sucks...\")\n",
        "\n",
        "prob_dist=classifier.prob_classify(\"This sucks..\")\n",
        "print(round(prob_dist.prob(\"pos\"), 2))\n",
        "print(round(prob_dist.prob(\"neg\"), 2))"
      ],
      "execution_count": 28,
      "outputs": [
        {
          "output_type": "stream",
          "text": [
            "0.17\n",
            "0.83\n"
          ],
          "name": "stdout"
        }
      ]
    },
    {
      "cell_type": "code",
      "metadata": {
        "id": "fN-sWc-uZZQF",
        "colab_type": "code",
        "colab": {}
      },
      "source": [
        ""
      ],
      "execution_count": 0,
      "outputs": []
    }
  ]
}