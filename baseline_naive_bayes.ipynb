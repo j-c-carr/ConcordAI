{
  "nbformat": 4,
  "nbformat_minor": 0,
  "metadata": {
    "colab": {
      "name": "concordAI.ipynb",
      "version": "0.3.2",
      "provenance": [],
      "collapsed_sections": []
    },
    "kernelspec": {
      "name": "python3",
      "display_name": "Python 3"
    }
  },
  "cells": [
    {
      "cell_type": "code",
      "metadata": {
        "id": "sg8-9Ow9D3m4",
        "colab_type": "code",
        "colab": {
          "base_uri": "https://localhost:8080/",
          "height": 34
        },
        "outputId": "0244c5c4-6c87-4c63-8555-e62fe45f0d83"
      },
      "source": [
        "from google.colab import drive\n",
        "drive.mount('/content/drive')"
      ],
      "execution_count": 2,
      "outputs": [
        {
          "output_type": "stream",
          "text": [
            "Drive already mounted at /content/drive; to attempt to forcibly remount, call drive.mount(\"/content/drive\", force_remount=True).\n"
          ],
          "name": "stdout"
        }
      ]
    },
    {
      "cell_type": "code",
      "metadata": {
        "id": "KYmQHF0tEcu0",
        "colab_type": "code",
        "colab": {}
      },
      "source": [
        "import os\n",
        "import pandas as pd\n",
        "import numpy as np"
      ],
      "execution_count": 0,
      "outputs": []
    },
    {
      "cell_type": "code",
      "metadata": {
        "id": "R0Sioq2HFPWU",
        "colab_type": "code",
        "colab": {
          "base_uri": "https://localhost:8080/",
          "height": 68
        },
        "outputId": "e8ae73c5-b5be-43e1-a1e1-6b982e5c0346"
      },
      "source": [
        "!pip install -U textblob"
      ],
      "execution_count": 5,
      "outputs": [
        {
          "output_type": "stream",
          "text": [
            "Requirement already up-to-date: textblob in /usr/local/lib/python3.6/dist-packages (0.15.3)\n",
            "Requirement already satisfied, skipping upgrade: nltk>=3.1 in /usr/local/lib/python3.6/dist-packages (from textblob) (3.2.5)\n",
            "Requirement already satisfied, skipping upgrade: six in /usr/local/lib/python3.6/dist-packages (from nltk>=3.1->textblob) (1.12.0)\n"
          ],
          "name": "stdout"
        }
      ]
    },
    {
      "cell_type": "code",
      "metadata": {
        "id": "NvhLvkkjFxpr",
        "colab_type": "code",
        "colab": {}
      },
      "source": [
        "from textblob import TextBlob\n",
        "from textblob import classifiers"
      ],
      "execution_count": 0,
      "outputs": []
    },
    {
      "cell_type": "code",
      "metadata": {
        "id": "j0d2NVsEOLxt",
        "colab_type": "code",
        "colab": {
          "base_uri": "https://localhost:8080/",
          "height": 68
        },
        "outputId": "7d256f1a-07ce-4551-dce8-5b1c0ecbed24"
      },
      "source": [
        "import nltk\n",
        "nltk.download('punkt')"
      ],
      "execution_count": 5,
      "outputs": [
        {
          "output_type": "stream",
          "text": [
            "[nltk_data] Downloading package punkt to /root/nltk_data...\n",
            "[nltk_data]   Package punkt is already up-to-date!\n"
          ],
          "name": "stdout"
        },
        {
          "output_type": "execute_result",
          "data": {
            "text/plain": [
              "True"
            ]
          },
          "metadata": {
            "tags": []
          },
          "execution_count": 5
        }
      ]
    },
    {
      "cell_type": "code",
      "metadata": {
        "id": "Sf9RfZEgEHKi",
        "colab_type": "code",
        "colab": {}
      },
      "source": [
        "data = pd.read_csv('/content/drive/My Drive/Colab Notebooks/training.1600000.processed.noemoticon.csv', encoding = \"ISO-8859-1\")"
      ],
      "execution_count": 0,
      "outputs": []
    },
    {
      "cell_type": "code",
      "metadata": {
        "id": "uMM6SsKXLz8T",
        "colab_type": "code",
        "colab": {
          "base_uri": "https://localhost:8080/",
          "height": 1071
        },
        "outputId": "29f10b8b-1c2e-4159-8c2e-1d1ea99c8f46"
      },
      "source": [
        "data.iloc[:,0]"
      ],
      "execution_count": 7,
      "outputs": [
        {
          "output_type": "execute_result",
          "data": {
            "text/plain": [
              "0          0\n",
              "1          0\n",
              "2          0\n",
              "3          0\n",
              "4          0\n",
              "5          0\n",
              "6          0\n",
              "7          0\n",
              "8          0\n",
              "9          0\n",
              "10         0\n",
              "11         0\n",
              "12         0\n",
              "13         0\n",
              "14         0\n",
              "15         0\n",
              "16         0\n",
              "17         0\n",
              "18         0\n",
              "19         0\n",
              "20         0\n",
              "21         0\n",
              "22         0\n",
              "23         0\n",
              "24         0\n",
              "25         0\n",
              "26         0\n",
              "27         0\n",
              "28         0\n",
              "29         0\n",
              "          ..\n",
              "1599969    4\n",
              "1599970    4\n",
              "1599971    4\n",
              "1599972    4\n",
              "1599973    4\n",
              "1599974    4\n",
              "1599975    4\n",
              "1599976    4\n",
              "1599977    4\n",
              "1599978    4\n",
              "1599979    4\n",
              "1599980    4\n",
              "1599981    4\n",
              "1599982    4\n",
              "1599983    4\n",
              "1599984    4\n",
              "1599985    4\n",
              "1599986    4\n",
              "1599987    4\n",
              "1599988    4\n",
              "1599989    4\n",
              "1599990    4\n",
              "1599991    4\n",
              "1599992    4\n",
              "1599993    4\n",
              "1599994    4\n",
              "1599995    4\n",
              "1599996    4\n",
              "1599997    4\n",
              "1599998    4\n",
              "Name: 0, Length: 1599999, dtype: int64"
            ]
          },
          "metadata": {
            "tags": []
          },
          "execution_count": 7
        }
      ]
    },
    {
      "cell_type": "code",
      "metadata": {
        "id": "y6mQKbvuFet5",
        "colab_type": "code",
        "colab": {}
      },
      "source": [
        "convert_posneg = []\n",
        "for index in data.index:\n",
        "  if data.iloc[:,0][index] == 0:\n",
        "    convert_posneg.append(\"neg\")\n",
        "  else:\n",
        "    convert_posneg.append(\"pos\")\n"
      ],
      "execution_count": 0,
      "outputs": []
    },
    {
      "cell_type": "code",
      "metadata": {
        "id": "wrZTXhIpJ4rc",
        "colab_type": "code",
        "colab": {}
      },
      "source": [
        "data['pos_neg'] = convert_posneg\n",
        "data['sentiment_pair'] = list(zip(data.iloc[:,5], data['pos_neg']))"
      ],
      "execution_count": 0,
      "outputs": []
    },
    {
      "cell_type": "code",
      "metadata": {
        "id": "g0MkkZ7cRbrO",
        "colab_type": "code",
        "colab": {
          "base_uri": "https://localhost:8080/",
          "height": 4318
        },
        "outputId": "ad6a3d4c-9225-41ac-b899-e0f0c7c5ea3e"
      },
      "source": [
        "data.sample(frac=1)\n",
        "data.head"
      ],
      "execution_count": 10,
      "outputs": [
        {
          "output_type": "execute_result",
          "data": {
            "text/plain": [
              "<bound method NDFrame.head of          0  1467810369  Mon Apr 06 22:19:45 PDT 2009  NO_QUERY  \\\n",
              "0        0  1467810672  Mon Apr 06 22:19:49 PDT 2009  NO_QUERY   \n",
              "1        0  1467810917  Mon Apr 06 22:19:53 PDT 2009  NO_QUERY   \n",
              "2        0  1467811184  Mon Apr 06 22:19:57 PDT 2009  NO_QUERY   \n",
              "3        0  1467811193  Mon Apr 06 22:19:57 PDT 2009  NO_QUERY   \n",
              "4        0  1467811372  Mon Apr 06 22:20:00 PDT 2009  NO_QUERY   \n",
              "5        0  1467811592  Mon Apr 06 22:20:03 PDT 2009  NO_QUERY   \n",
              "6        0  1467811594  Mon Apr 06 22:20:03 PDT 2009  NO_QUERY   \n",
              "7        0  1467811795  Mon Apr 06 22:20:05 PDT 2009  NO_QUERY   \n",
              "8        0  1467812025  Mon Apr 06 22:20:09 PDT 2009  NO_QUERY   \n",
              "9        0  1467812416  Mon Apr 06 22:20:16 PDT 2009  NO_QUERY   \n",
              "10       0  1467812579  Mon Apr 06 22:20:17 PDT 2009  NO_QUERY   \n",
              "11       0  1467812723  Mon Apr 06 22:20:19 PDT 2009  NO_QUERY   \n",
              "12       0  1467812771  Mon Apr 06 22:20:19 PDT 2009  NO_QUERY   \n",
              "13       0  1467812784  Mon Apr 06 22:20:20 PDT 2009  NO_QUERY   \n",
              "14       0  1467812799  Mon Apr 06 22:20:20 PDT 2009  NO_QUERY   \n",
              "15       0  1467812964  Mon Apr 06 22:20:22 PDT 2009  NO_QUERY   \n",
              "16       0  1467813137  Mon Apr 06 22:20:25 PDT 2009  NO_QUERY   \n",
              "17       0  1467813579  Mon Apr 06 22:20:31 PDT 2009  NO_QUERY   \n",
              "18       0  1467813782  Mon Apr 06 22:20:34 PDT 2009  NO_QUERY   \n",
              "19       0  1467813985  Mon Apr 06 22:20:37 PDT 2009  NO_QUERY   \n",
              "20       0  1467813992  Mon Apr 06 22:20:38 PDT 2009  NO_QUERY   \n",
              "21       0  1467814119  Mon Apr 06 22:20:40 PDT 2009  NO_QUERY   \n",
              "22       0  1467814180  Mon Apr 06 22:20:40 PDT 2009  NO_QUERY   \n",
              "23       0  1467814192  Mon Apr 06 22:20:41 PDT 2009  NO_QUERY   \n",
              "24       0  1467814438  Mon Apr 06 22:20:44 PDT 2009  NO_QUERY   \n",
              "25       0  1467814783  Mon Apr 06 22:20:50 PDT 2009  NO_QUERY   \n",
              "26       0  1467814883  Mon Apr 06 22:20:52 PDT 2009  NO_QUERY   \n",
              "27       0  1467815199  Mon Apr 06 22:20:56 PDT 2009  NO_QUERY   \n",
              "28       0  1467815753  Mon Apr 06 22:21:04 PDT 2009  NO_QUERY   \n",
              "29       0  1467815923  Mon Apr 06 22:21:07 PDT 2009  NO_QUERY   \n",
              "...     ..         ...                           ...       ...   \n",
              "1599969  4  2193578196  Tue Jun 16 08:38:54 PDT 2009  NO_QUERY   \n",
              "1599970  4  2193578237  Tue Jun 16 08:38:54 PDT 2009  NO_QUERY   \n",
              "1599971  4  2193578269  Tue Jun 16 08:38:54 PDT 2009  NO_QUERY   \n",
              "1599972  4  2193578319  Tue Jun 16 08:38:55 PDT 2009  NO_QUERY   \n",
              "1599973  4  2193578345  Tue Jun 16 08:38:55 PDT 2009  NO_QUERY   \n",
              "1599974  4  2193578347  Tue Jun 16 08:38:55 PDT 2009  NO_QUERY   \n",
              "1599975  4  2193578348  Tue Jun 16 08:38:55 PDT 2009  NO_QUERY   \n",
              "1599976  4  2193578386  Tue Jun 16 08:38:55 PDT 2009  NO_QUERY   \n",
              "1599977  4  2193578395  Tue Jun 16 08:38:55 PDT 2009  NO_QUERY   \n",
              "1599978  4  2193578576  Tue Jun 16 08:38:57 PDT 2009  NO_QUERY   \n",
              "1599979  4  2193578679  Tue Jun 16 08:38:56 PDT 2009  NO_QUERY   \n",
              "1599980  4  2193578716  Tue Jun 16 08:38:57 PDT 2009  NO_QUERY   \n",
              "1599981  4  2193578739  Tue Jun 16 08:38:57 PDT 2009  NO_QUERY   \n",
              "1599982  4  2193578758  Tue Jun 16 08:38:57 PDT 2009  NO_QUERY   \n",
              "1599983  4  2193578847  Tue Jun 16 08:38:57 PDT 2009  NO_QUERY   \n",
              "1599984  4  2193578982  Tue Jun 16 08:38:58 PDT 2009  NO_QUERY   \n",
              "1599985  4  2193579087  Tue Jun 16 08:38:58 PDT 2009  NO_QUERY   \n",
              "1599986  4  2193579092  Tue Jun 16 08:38:58 PDT 2009  NO_QUERY   \n",
              "1599987  4  2193579191  Tue Jun 16 08:38:59 PDT 2009  NO_QUERY   \n",
              "1599988  4  2193579211  Tue Jun 16 08:38:59 PDT 2009  NO_QUERY   \n",
              "1599989  4  2193579249  Tue Jun 16 08:38:59 PDT 2009  NO_QUERY   \n",
              "1599990  4  2193579284  Tue Jun 16 08:38:59 PDT 2009  NO_QUERY   \n",
              "1599991  4  2193579434  Tue Jun 16 08:39:00 PDT 2009  NO_QUERY   \n",
              "1599992  4  2193579477  Tue Jun 16 08:39:00 PDT 2009  NO_QUERY   \n",
              "1599993  4  2193579489  Tue Jun 16 08:39:00 PDT 2009  NO_QUERY   \n",
              "1599994  4  2193601966  Tue Jun 16 08:40:49 PDT 2009  NO_QUERY   \n",
              "1599995  4  2193601969  Tue Jun 16 08:40:49 PDT 2009  NO_QUERY   \n",
              "1599996  4  2193601991  Tue Jun 16 08:40:49 PDT 2009  NO_QUERY   \n",
              "1599997  4  2193602064  Tue Jun 16 08:40:49 PDT 2009  NO_QUERY   \n",
              "1599998  4  2193602129  Tue Jun 16 08:40:50 PDT 2009  NO_QUERY   \n",
              "\n",
              "         _TheSpecialOne_  \\\n",
              "0          scotthamilton   \n",
              "1               mattycus   \n",
              "2                ElleCTF   \n",
              "3                 Karoli   \n",
              "4               joy_wolf   \n",
              "5                mybirch   \n",
              "6                   coZZ   \n",
              "7        2Hood4Hollywood   \n",
              "8                mimismo   \n",
              "9         erinx3leannexo   \n",
              "10          pardonlauren   \n",
              "11                  TLeC   \n",
              "12       robrobbierobert   \n",
              "13           bayofwolves   \n",
              "14            HairByJess   \n",
              "15        lovesongwriter   \n",
              "16              armotley   \n",
              "17            starkissed   \n",
              "18             gi_gi_bee   \n",
              "19                quanvu   \n",
              "20            swinspeedx   \n",
              "21             cooliodoc   \n",
              "22            viJILLante   \n",
              "23            Ljelli3166   \n",
              "24         ChicagoCubbie   \n",
              "25           KatieAngell   \n",
              "26                 gagoo   \n",
              "27               abel209   \n",
              "28       BaptisteTheFool   \n",
              "29             fatkat309   \n",
              "...                  ...   \n",
              "1599969    adbillingsley   \n",
              "1599970           gekkko   \n",
              "1599971       millerslab   \n",
              "1599972  luckygeorgeblog   \n",
              "1599973    Kristah_Diggs   \n",
              "1599974        CoachChic   \n",
              "1599975         serianna   \n",
              "1599976   TeamUKskyvixen   \n",
              "1599977      LaurenMoo10   \n",
              "1599978    angel_sammy04   \n",
              "1599979        puchal_ek   \n",
              "1599980    youtubelatest   \n",
              "1599981  Mandi_Davenport   \n",
              "1599982         xoAurixo   \n",
              "1599983       RobFoxKerr   \n",
              "1599984         LISKFEST   \n",
              "1599985          marhgil   \n",
              "1599986        cathriiin   \n",
              "1599987          tellman   \n",
              "1599988        jazzstixx   \n",
              "1599989    razzberry5594   \n",
              "1599990        AgustinaP   \n",
              "1599991    sdancingsteph   \n",
              "1599992      ChloeAmisha   \n",
              "1599993        EvolveTom   \n",
              "1599994  AmandaMarie1028   \n",
              "1599995      TheWDBoards   \n",
              "1599996           bpbabe   \n",
              "1599997     tinydiamondz   \n",
              "1599998   RyanTrevMorris   \n",
              "\n",
              "        @switchfoot http://twitpic.com/2y1zl - Awww, that's a bummer.  You shoulda got David Carr of Third Day to do it. ;D  \\\n",
              "0        is upset that he can't update his Facebook by ...                                                                    \n",
              "1        @Kenichan I dived many times for the ball. Man...                                                                    \n",
              "2          my whole body feels itchy and like its on fire                                                                     \n",
              "3        @nationwideclass no, it's not behaving at all....                                                                    \n",
              "4                            @Kwesidei not the whole crew                                                                     \n",
              "5                                              Need a hug                                                                     \n",
              "6        @LOLTrish hey  long time no see! Yes.. Rains a...                                                                    \n",
              "7                     @Tatiana_K nope they didn't have it                                                                     \n",
              "8                                @twittera que me muera ?                                                                     \n",
              "9              spring break in plain city... it's snowing                                                                     \n",
              "10                              I just re-pierced my ears                                                                     \n",
              "11       @caregiving I couldn't bear to watch it.  And ...                                                                    \n",
              "12       @octolinz16 It it counts, idk why I did either...                                                                    \n",
              "13       @smarrison i would've been the first, but i di...                                                                    \n",
              "14       @iamjazzyfizzle I wish I got to watch it with ...                                                                    \n",
              "15       Hollis' death scene will hurt me severely to w...                                                                    \n",
              "16                                    about to file taxes                                                                     \n",
              "17       @LettyA ahh ive always wanted to see rent  lov...                                                                    \n",
              "18       @FakerPattyPattz Oh dear. Were you drinking ou...                                                                    \n",
              "19       @alydesigns i was out most of the day so didn'...                                                                    \n",
              "20       one of my friend called me, and asked to meet ...                                                                    \n",
              "21        @angry_barista I baked you a cake but I ated it                                                                     \n",
              "22                  this week is not going as i had hoped                                                                     \n",
              "23                              blagh class at 8 tomorrow                                                                     \n",
              "24          I hate when I have to call and wake people up                                                                     \n",
              "25       Just going to cry myself to sleep after watchi...                                                                    \n",
              "26                                  im sad now  Miss.Lilly                                                                    \n",
              "27       ooooh.... LOL  that leslie.... and ok I won't ...                                                                    \n",
              "28       Meh... Almost Lover is the exception... this t...                                                                    \n",
              "29       some1 hacked my account on aim  now i have to ...                                                                    \n",
              "...                                                    ...                                                                    \n",
              "1599969  Thanks @eastwestchic &amp; @wangyip Thanks! Th...                                                                    \n",
              "1599970  @marttn thanks Martin. not the most imaginativ...                                                                    \n",
              "1599971          @MikeJonesPhoto Congrats Mike  Way to go!                                                                    \n",
              "1599972  http://twitpic.com/7jp4n - OMG! Office Space.....                                                                    \n",
              "1599973  @yrclndstnlvr ahaha nooo you were just away fr...                                                                    \n",
              "1599974  @BizCoachDeb  Hey, I'm baack! And, thanks so m...                                                                    \n",
              "1599975  @mattycus Yeah, my conscience would be clear i...                                                                    \n",
              "1599976  @MayorDorisWolfe Thats my girl - dishing out t...                                                                    \n",
              "1599977                          @shebbs123 i second that                                                                     \n",
              "1599978                                     In the garden                                                                     \n",
              "1599979  @myheartandmind jo jen by nemuselo zrovna tÃ© ...                                                                    \n",
              "1599980  Another Commenting Contest! [;: Yay!!!  http:/...                                                                    \n",
              "1599981  @thrillmesoon i figured out how to see my twee...                                                                    \n",
              "1599982  @oxhot theri tomorrow, drinking coffee, talkin...                                                                    \n",
              "1599983  You heard it here first -- We're having a girl...                                                                    \n",
              "1599984  if ur the lead singer in a band, beware fallin...                                                                    \n",
              "1599985              @tarayqueen too much ads on my blog.                                                                     \n",
              "1599986  @La_r_a NEVEER  I think that you both will get...                                                                    \n",
              "1599987  @Roy_Everitt ha- good job. that's right - we g...                                                                    \n",
              "1599988                 @Ms_Hip_Hop im glad ur doing well                                                                     \n",
              "1599989                              WOOOOO! Xbox is back                                                                     \n",
              "1599990  @rmedina @LaTati Mmmm  That sounds absolutely ...                                                                    \n",
              "1599991                  ReCoVeRiNg FrOm ThE lOnG wEeKeNd                                                                     \n",
              "1599992                                  @SCOOBY_GRITBOYS                                                                     \n",
              "1599993  @Cliff_Forster Yeah, that does work better tha...                                                                    \n",
              "1599994  Just woke up. Having no school is the best fee...                                                                    \n",
              "1599995  TheWDB.com - Very cool to hear old Walt interv...                                                                    \n",
              "1599996  Are you ready for your MoJo Makeover? Ask me f...                                                                    \n",
              "1599997  Happy 38th Birthday to my boo of alll time!!! ...                                                                    \n",
              "1599998  happy #charitytuesday @theNSPCC @SparksCharity...                                                                    \n",
              "\n",
              "        pos_neg                                     sentiment_pair  \n",
              "0           neg  (is upset that he can't update his Facebook by...  \n",
              "1           neg  (@Kenichan I dived many times for the ball. Ma...  \n",
              "2           neg  (my whole body feels itchy and like its on fir...  \n",
              "3           neg  (@nationwideclass no, it's not behaving at all...  \n",
              "4           neg               (@Kwesidei not the whole crew , neg)  \n",
              "5           neg                                 (Need a hug , neg)  \n",
              "6           neg  (@LOLTrish hey  long time no see! Yes.. Rains ...  \n",
              "7           neg        (@Tatiana_K nope they didn't have it , neg)  \n",
              "8           neg                   (@twittera que me muera ? , neg)  \n",
              "9           neg  (spring break in plain city... it's snowing , ...  \n",
              "10          neg                  (I just re-pierced my ears , neg)  \n",
              "11          neg  (@caregiving I couldn't bear to watch it.  And...  \n",
              "12          neg  (@octolinz16 It it counts, idk why I did eithe...  \n",
              "13          neg  (@smarrison i would've been the first, but i d...  \n",
              "14          neg  (@iamjazzyfizzle I wish I got to watch it with...  \n",
              "15          neg  (Hollis' death scene will hurt me severely to ...  \n",
              "16          neg                        (about to file taxes , neg)  \n",
              "17          neg  (@LettyA ahh ive always wanted to see rent  lo...  \n",
              "18          neg  (@FakerPattyPattz Oh dear. Were you drinking o...  \n",
              "19          neg  (@alydesigns i was out most of the day so didn...  \n",
              "20          neg  (one of my friend called me, and asked to meet...  \n",
              "21          neg  (@angry_barista I baked you a cake but I ated ...  \n",
              "22          neg      (this week is not going as i had hoped , neg)  \n",
              "23          neg                  (blagh class at 8 tomorrow , neg)  \n",
              "24          neg  (I hate when I have to call and wake people up...  \n",
              "25          neg  (Just going to cry myself to sleep after watch...  \n",
              "26          neg                      (im sad now  Miss.Lilly, neg)  \n",
              "27          neg  (ooooh.... LOL  that leslie.... and ok I won't...  \n",
              "28          neg  (Meh... Almost Lover is the exception... this ...  \n",
              "29          neg  (some1 hacked my account on aim  now i have to...  \n",
              "...         ...                                                ...  \n",
              "1599969     pos  (Thanks @eastwestchic &amp; @wangyip Thanks! T...  \n",
              "1599970     pos  (@marttn thanks Martin. not the most imaginati...  \n",
              "1599971     pos   (@MikeJonesPhoto Congrats Mike  Way to go!, pos)  \n",
              "1599972     pos  (http://twitpic.com/7jp4n - OMG! Office Space....  \n",
              "1599973     pos  (@yrclndstnlvr ahaha nooo you were just away f...  \n",
              "1599974     pos  (@BizCoachDeb  Hey, I'm baack! And, thanks so ...  \n",
              "1599975     pos  (@mattycus Yeah, my conscience would be clear ...  \n",
              "1599976     pos  (@MayorDorisWolfe Thats my girl - dishing out ...  \n",
              "1599977     pos                   (@shebbs123 i second that , pos)  \n",
              "1599978     pos                              (In the garden , pos)  \n",
              "1599979     pos  (@myheartandmind jo jen by nemuselo zrovna tÃ©...  \n",
              "1599980     pos  (Another Commenting Contest! [;: Yay!!!  http:...  \n",
              "1599981     pos  (@thrillmesoon i figured out how to see my twe...  \n",
              "1599982     pos  (@oxhot theri tomorrow, drinking coffee, talki...  \n",
              "1599983     pos  (You heard it here first -- We're having a gir...  \n",
              "1599984     pos  (if ur the lead singer in a band, beware falli...  \n",
              "1599985     pos       (@tarayqueen too much ads on my blog. , pos)  \n",
              "1599986     pos  (@La_r_a NEVEER  I think that you both will ge...  \n",
              "1599987     pos  (@Roy_Everitt ha- good job. that's right - we ...  \n",
              "1599988     pos          (@Ms_Hip_Hop im glad ur doing well , pos)  \n",
              "1599989     pos                       (WOOOOO! Xbox is back , pos)  \n",
              "1599990     pos  (@rmedina @LaTati Mmmm  That sounds absolutely...  \n",
              "1599991     pos           (ReCoVeRiNg FrOm ThE lOnG wEeKeNd , pos)  \n",
              "1599992     pos                           (@SCOOBY_GRITBOYS , pos)  \n",
              "1599993     pos  (@Cliff_Forster Yeah, that does work better th...  \n",
              "1599994     pos  (Just woke up. Having no school is the best fe...  \n",
              "1599995     pos  (TheWDB.com - Very cool to hear old Walt inter...  \n",
              "1599996     pos  (Are you ready for your MoJo Makeover? Ask me ...  \n",
              "1599997     pos  (Happy 38th Birthday to my boo of alll time!!!...  \n",
              "1599998     pos  (happy #charitytuesday @theNSPCC @SparksCharit...  \n",
              "\n",
              "[1599999 rows x 8 columns]>"
            ]
          },
          "metadata": {
            "tags": []
          },
          "execution_count": 10
        }
      ]
    },
    {
      "cell_type": "code",
      "metadata": {
        "id": "hCHDZ4aiN8Yw",
        "colab_type": "code",
        "colab": {}
      },
      "source": [
        "classifier = classifiers.NaiveBayesClassifier(data.sample(frac=1, random_state=1).iloc[:1000, 7])"
      ],
      "execution_count": 0,
      "outputs": []
    },
    {
      "cell_type": "code",
      "metadata": {
        "id": "Kjaq25b5OGrM",
        "colab_type": "code",
        "colab": {
          "base_uri": "https://localhost:8080/",
          "height": 34
        },
        "outputId": "741f6e2e-4da5-489f-968f-e8054a9a61f3"
      },
      "source": [
        "test = data.sample(frac=1, random_state=1).iloc[1001:1500, 7]\n",
        "classifier.accuracy(test)"
      ],
      "execution_count": 15,
      "outputs": [
        {
          "output_type": "execute_result",
          "data": {
            "text/plain": [
              "0.6492985971943888"
            ]
          },
          "metadata": {
            "tags": []
          },
          "execution_count": 15
        }
      ]
    },
    {
      "cell_type": "code",
      "metadata": {
        "id": "eXnbl_TKS_Mt",
        "colab_type": "code",
        "colab": {}
      },
      "source": [
        ""
      ],
      "execution_count": 0,
      "outputs": []
    }
  ]
}