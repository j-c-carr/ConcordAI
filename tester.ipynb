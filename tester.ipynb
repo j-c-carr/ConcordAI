{
  "nbformat": 4,
  "nbformat_minor": 0,
  "metadata": {
    "colab": {
      "name": "tester.ipynb",
      "version": "0.3.2",
      "provenance": [],
      "collapsed_sections": []
    },
    "kernelspec": {
      "name": "python3",
      "display_name": "Python 3"
    }
  },
  "cells": [
    {
      "cell_type": "code",
      "metadata": {
        "id": "haMcj6q6yBQ5",
        "colab_type": "code",
        "colab": {}
      },
      "source": [
        "import re\n",
        "import pickle\n",
        "import os\n",
        "import pandas as pd\n",
        "import numpy as np\n",
        "from textblob import TextBlob\n",
        "from textblob import classifiers\n",
        "import nltk\n",
        "from difflib import SequenceMatcher\n",
        "\n",
        "def similar(a,b):\n",
        "  return SequenceMatcher(None, a, b).ratio()"
      ],
      "execution_count": 0,
      "outputs": []
    },
    {
      "cell_type": "code",
      "metadata": {
        "id": "IPQ5TaoFwU89",
        "colab_type": "code",
        "outputId": "8f56dd0c-c79a-4d15-dcf2-e0f8048190a6",
        "colab": {
          "base_uri": "https://localhost:8080/",
          "height": 34
        }
      },
      "source": [
        "from google.colab import drive\n",
        "drive.mount('/content/drive')\n",
        "file_cl = open(\"/content/drive/My Drive/Colab Notebooks/naive_bayes.obj\",\"rb\")\n",
        "classifier = pickle.load(file_cl)"
      ],
      "execution_count": 19,
      "outputs": [
        {
          "output_type": "stream",
          "text": [
            "Drive already mounted at /content/drive; to attempt to forcibly remount, call drive.mount(\"/content/drive\", force_remount=True).\n"
          ],
          "name": "stdout"
        }
      ]
    },
    {
      "cell_type": "code",
      "metadata": {
        "id": "75-9UVfDMB4Q",
        "colab_type": "code",
        "colab": {}
      },
      "source": [
        "temp = [{'A':'dummy', 'B':'dummy'}]\n",
        "mapping = pd.DataFrame(temp)  \n",
        "index=1\n",
        "#print(mapping)"
      ],
      "execution_count": 0,
      "outputs": []
    },
    {
      "cell_type": "code",
      "metadata": {
        "id": "SqrHI8uAyDs8",
        "colab_type": "code",
        "colab": {}
      },
      "source": [
        "def preprocess(tweet):\n",
        "    tweet = re.sub(r'@[\\w]*|#|[^\\w?.!\\s]|\\bhttps?[^\\s]*\\b', '', tweet)\n",
        "    return tweet\n",
        "  \n",
        "def predict(tweet):\n",
        "  result = classifier.classify(tweet)\n",
        "  prob_dist=classifier.prob_classify(tweet)\n",
        "  print(\"Predicted: \" + result + \", Positive: \" + str(round(prob_dist.prob(\"pos\"), 2)) + \", Negative: \" + str(round(prob_dist.prob(\"neg\"), 2)))\n",
        "  posprob = round(prob_dist.prob(\"pos\"), 2)\n",
        "  negprob = round(prob_dist.prob(\"neg\"),2)\n",
        "  \n",
        "  if (result == \"neg\"):\n",
        "    return 0, posprob, negprob\n",
        "  elif (result == \"pos\"):\n",
        "    return 1, posprob, negprob\n",
        "      \n",
        "def userFeature(tweet, posprob, negprob):\n",
        "  global mapping\n",
        " \n",
        "  if (posprob < 0.90 and posprob > 0.10):\n",
        "        for index, row in mapping.iterrows():\n",
        "          if (similar(row['A'], tweet)>0.6):\n",
        "            tweet = tweet + row['B']\n",
        "            return predict(tweet)\n",
        "          \n",
        "        print(\"please help out boi: \" + tweet)\n",
        "        \n",
        "        reformulation = input()\n",
        "        ##print(reformulation)\n",
        "        toAppend = pd.DataFrame({'A': [tweet], 'B': [reformulation]})\n",
        "        #print(\"yeet\")\n",
        "        #print(toAppend)\n",
        "        mapping = mapping.append(toAppend, ignore_index= True)\n",
        "        \n",
        "        tweet = tweet + reformulation\n",
        "        \n",
        "        res2, posprob2, negprob2 = predict(tweet)\n",
        "        \n",
        "        return res2, posprob2, negprob2\n"
      ],
      "execution_count": 0,
      "outputs": []
    },
    {
      "cell_type": "code",
      "metadata": {
        "id": "IXgv0ntFs9V0",
        "colab_type": "code",
        "colab": {
          "base_uri": "https://localhost:8080/",
          "height": 385
        },
        "outputId": "d5ecea35-f560-4a16-b23c-8ff2bfd2604a"
      },
      "source": [
        "test_phrases = {\n",
        "    \"#inaperfectworld final exams wouldn't exist and i would be sleeping very confy right now!\": 1,\n",
        "    \"ok thats it you win.\": 0,\n",
        "    \"#Swim&amp;Run #Cologne was great!Lesson learnedon't bring water w/ gas.Cost me 5-7min.,easy \": 1,\n",
        "    \"#Tetris, one of the most renowned and addictive creations in the brief history of video games, turns 25 this week  Long live Tetris!\": 1,\n",
        "    \"#TFARP -cycle. Been a rather long solar cycle for everybody, I think. :p G'night Bots, Cons, and assorted others! \": 0,\n",
        "    \"#thankyouGod for all the mothers in the world who doesnt know how to cook salsa but will be willing to try for their children \": 1,\n",
        "    \"#inaperfectworld i'd be sitting VIP row 1 at the game tonight!\": 1,\n",
        "    \"#iPhone - updated to 3.0 but cant activate because  iTunes store activation connection time out error \": 0,\n",
        "    \"#Up is amazing!  I'm glad I got to see it &amp; see @KristinRose84 too!\": 1,\n",
        "    \"#Music happy music monday everybody, I LOVE MUSIC \": 1\n",
        "}\t\n",
        "\n",
        "secret_test_phrases = {\n",
        "}\n",
        "\n",
        "\n",
        "if __name__ == \"__main__\":\n",
        "    \n",
        "    nbr_test_phrases = len(test_phrases)\n",
        "    nbr_secret_test_phrases = len(secret_test_phrases)\n",
        "\n",
        "    count_correct = 0\n",
        "    \n",
        "    for phrase, score in test_phrases.items():\n",
        "        formatted = preprocess(phrase)\n",
        "        res, posprob, negprob = predict(formatted)\n",
        "        if (posprob > 0.90 or posprob < 0.10):\n",
        "          if res == score:\n",
        "              count_correct += 1\n",
        "        else:\n",
        "          res2, posprob2, negprob2 = userFeature(formatted, posprob, negprob)\n",
        "          if res2 == score:\n",
        "            count_correct += 1\n",
        "\n",
        "    test_phases_count_correct = count_correct\n",
        "    test_phrases_result = test_phases_count_correct/nbr_test_phrases * 100\n",
        "    print('You have a score of {}% on the test phrases'.format(test_phrases_result))\n",
        "    \n",
        "    if test_phrases_result < 70:\n",
        "    \tprint(\"You do not get a good score on the test phrases! {}\".format(\"*\" * 30))\n",
        "\n",
        "    count_correct = 0\n",
        "    for phrase, score in secret_test_phrases.items():\n",
        "        res = sentiment_analysis_result(phrase)\n",
        "        if res == score:\n",
        "            count_correct += 1\n",
        "\n",
        "    secret_test_phases_count_correct = count_correct\n",
        "    secret_test_phrases_result = 0.0\n",
        "    if nbr_secret_test_phrases != 0:\n",
        "    \tsecret_test_phrases_result = secret_test_phases_count_correct/nbr_secret_test_phrases * 100\n",
        "    print('You have a score of {}% on the secret test phrases'.format(secret_test_phrases_result))\n",
        "    \n",
        "    total_test_phrases_result = ((test_phases_count_correct + secret_test_phases_count_correct)/ \\\n",
        "    \t(nbr_test_phrases + nbr_secret_test_phrases)) * 100\n",
        "\n",
        "    print('You have a total score of {}%'.format(total_test_phrases_result))\n"
      ],
      "execution_count": 145,
      "outputs": [
        {
          "output_type": "stream",
          "text": [
            "Predicted: pos, Positive: 0.68, Negative: 0.32\n",
            "please help out boi: inaperfectworld final exams wouldnt exist and i would be sleeping very confy right now!\n",
            "in a perfect world, final exams would not exist and i would be sleeping super comfy right now!\n",
            "Predicted: pos, Positive: 0.56, Negative: 0.44\n",
            "Predicted: pos, Positive: 0.74, Negative: 0.26\n",
            "please help out boi: ok thats it you win.\n",
            "i lost\n",
            "Predicted: neg, Positive: 0.3, Negative: 0.7\n",
            "Predicted: pos, Positive: 0.9, Negative: 0.1\n"
          ],
          "name": "stdout"
        },
        {
          "output_type": "error",
          "ename": "TypeError",
          "evalue": "ignored",
          "traceback": [
            "\u001b[0;31m---------------------------------------------------------------------------\u001b[0m",
            "\u001b[0;31mTypeError\u001b[0m                                 Traceback (most recent call last)",
            "\u001b[0;32m<ipython-input-145-b4abcec1d257>\u001b[0m in \u001b[0;36m<module>\u001b[0;34m()\u001b[0m\n\u001b[1;32m     30\u001b[0m               \u001b[0mcount_correct\u001b[0m \u001b[0;34m+=\u001b[0m \u001b[0;36m1\u001b[0m\u001b[0;34m\u001b[0m\u001b[0;34m\u001b[0m\u001b[0m\n\u001b[1;32m     31\u001b[0m         \u001b[0;32melse\u001b[0m\u001b[0;34m:\u001b[0m\u001b[0;34m\u001b[0m\u001b[0;34m\u001b[0m\u001b[0m\n\u001b[0;32m---> 32\u001b[0;31m           \u001b[0mres2\u001b[0m\u001b[0;34m,\u001b[0m \u001b[0mposprob2\u001b[0m\u001b[0;34m,\u001b[0m \u001b[0mnegprob2\u001b[0m \u001b[0;34m=\u001b[0m \u001b[0muserFeature\u001b[0m\u001b[0;34m(\u001b[0m\u001b[0mformatted\u001b[0m\u001b[0;34m,\u001b[0m \u001b[0mposprob\u001b[0m\u001b[0;34m,\u001b[0m \u001b[0mnegprob\u001b[0m\u001b[0;34m)\u001b[0m\u001b[0;34m\u001b[0m\u001b[0;34m\u001b[0m\u001b[0m\n\u001b[0m\u001b[1;32m     33\u001b[0m           \u001b[0;32mif\u001b[0m \u001b[0mres2\u001b[0m \u001b[0;34m==\u001b[0m \u001b[0mscore\u001b[0m\u001b[0;34m:\u001b[0m\u001b[0;34m\u001b[0m\u001b[0;34m\u001b[0m\u001b[0m\n\u001b[1;32m     34\u001b[0m             \u001b[0mcount_correct\u001b[0m \u001b[0;34m+=\u001b[0m \u001b[0;36m1\u001b[0m\u001b[0;34m\u001b[0m\u001b[0;34m\u001b[0m\u001b[0m\n",
            "\u001b[0;31mTypeError\u001b[0m: 'NoneType' object is not iterable"
          ]
        }
      ]
    },
    {
      "cell_type": "code",
      "metadata": {
        "id": "VSjXPLjMQsLe",
        "colab_type": "code",
        "colab": {
          "base_uri": "https://localhost:8080/",
          "height": 170
        },
        "outputId": "e892e0ca-8cd1-41ec-ce08-806e54748314"
      },
      "source": [
        "print(mapping)"
      ],
      "execution_count": 132,
      "outputs": [
        {
          "output_type": "stream",
          "text": [
            "                                                   A  \\\n",
            "0                                              dummy   \n",
            "0  inaperfectworld final exams wouldnt exist and ...   \n",
            "0                               ok thats it you win.   \n",
            "\n",
            "                                                B  \n",
            "0                                           dummy  \n",
            "0  in a perfect world final exams would not exist  \n",
            "0                                          i lost  \n"
          ],
          "name": "stdout"
        }
      ]
    },
    {
      "cell_type": "code",
      "metadata": {
        "id": "Ve9nLHuxSzaE",
        "colab_type": "code",
        "colab": {}
      },
      "source": [
        ""
      ],
      "execution_count": 0,
      "outputs": []
    }
  ]
}